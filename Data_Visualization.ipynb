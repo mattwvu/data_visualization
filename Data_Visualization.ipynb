{
 "cells": [
  {
   "cell_type": "markdown",
   "id": "bd403cf7-bb53-41cf-95e5-91dd12bcb262",
   "metadata": {},
   "source": [
    "<h1>Visualize your Data</h1>"
   ]
  },
  {
   "cell_type": "markdown",
   "id": "2dedece4-3b05-4a47-982c-30ded170ff42",
   "metadata": {},
   "source": [
    "<h3>Data Visualization Libraries</h3>\n",
    "<p>\n",
    "    <ul>\n",
    "        <li><a href=\"https://matplotlib.org/\" target =\"_blank\">MatPlotLib</a> - General-purpose plotting</li>\n",
    "        <li><a href=\"https://seaborn.pydata.org/\" target =\"_blank\">Seaborn</a> - Statistical graphics and beautiful themes</li>\n",
    "        <li><a href = \"https://plotly.com/python/\" target =\"_blank\">Plotly</a> - Interactive and web-based plots</li>\n",
    "        <li><a href=\"https://geopandas.org/en/stable/index.html\" target =\"_blank\">Geopandas</a> - Geospatial data visualization</li>\n",
    "    </ul>\n",
    "</p>"
   ]
  },
  {
   "cell_type": "code",
   "execution_count": null,
   "id": "8d6e93c9-53ef-4201-8259-d2d066d9d08a",
   "metadata": {},
   "outputs": [],
   "source": [
    "#load pandas\n",
    "\n",
    "import pandas as pd"
   ]
  },
  {
   "cell_type": "markdown",
   "id": "ff70ba15-e112-4c55-8436-358aa8dacc10",
   "metadata": {},
   "source": [
    "<h3>MatPlotLib</h3>"
   ]
  },
  {
   "cell_type": "code",
   "execution_count": null,
   "id": "efe0cd22-1960-44fa-9869-b1e5fee25f8e",
   "metadata": {},
   "outputs": [],
   "source": [
    "# import the library\n",
    "\n",
    "import matplotlib.pyplot as plt\n",
    "\n",
    "# load dataframe\n",
    "\n",
    "scotus = pd.read_csv(\"scotus_approval.csv\")\n",
    "\n",
    "# set datatime\n",
    "\n",
    "scotus[\"date\"] = pd.to_datetime(scotus[\"date\"])\n",
    "\n",
    "scotus = scotus[(scotus[\"date\"] >= '2023-09-29')]"
   ]
  },
  {
   "cell_type": "code",
   "execution_count": null,
   "id": "dd233022-f838-4fed-8cdd-0a022c519747",
   "metadata": {},
   "outputs": [],
   "source": [
    "# filter pollster to YouGov\n",
    "\n",
    "scotus = scotus[scotus[\"pollster\"] == \"YouGov\"]\n",
    "scotus"
   ]
  },
  {
   "cell_type": "code",
   "execution_count": null,
   "id": "082c1159-3155-408b-829e-24eecbbeb50b",
   "metadata": {},
   "outputs": [],
   "source": [
    "# create a line graph of scotus approval rating\n",
    "\n",
    "#use plot to call the line plot shape\n",
    "\n",
    "scotus.plot()"
   ]
  },
  {
   "cell_type": "code",
   "execution_count": null,
   "id": "0432884b-c411-42ac-ae20-a66f3c329907",
   "metadata": {},
   "outputs": [],
   "source": [
    "# set date and yes appoval \n",
    "\n",
    "scotus.plot(x=\"date\", y=\"yes\")\n",
    "\n",
    "\n",
    "# Show the plot\n",
    "plt.show()"
   ]
  },
  {
   "cell_type": "code",
   "execution_count": null,
   "id": "985f7e71-5e78-40c4-8092-6d0e5aecfd2f",
   "metadata": {},
   "outputs": [],
   "source": [
    "# Multiple Variables: You can also plot multiple y-variables by passing a list to the y parameter (e.g., y=[\"yes\", \"no\"]).\n",
    "\n",
    "scotus.plot(x=\"date\", y=[\"yes\", \"no\"])\n",
    "\n",
    "plt.show()"
   ]
  },
  {
   "cell_type": "code",
   "execution_count": null,
   "id": "4918fa38-fd66-4aba-8d34-3169bf56d907",
   "metadata": {},
   "outputs": [],
   "source": [
    "# Stylize the graph\n",
    "scotus.plot(x=\"date\", y=\"yes\", \n",
    "            color=\"red\",      # color\n",
    "            linewidth=0.75,   # line size\n",
    "            linestyle='--',   # Dotted line style\n",
    "            marker='o',       # Circle markers for each data point\n",
    "            markersize=5      # Size of the markers\n",
    "           )"
   ]
  },
  {
   "cell_type": "code",
   "execution_count": null,
   "id": "79776056-09bd-4d38-91c5-6e8db20c56bd",
   "metadata": {},
   "outputs": [],
   "source": [
    "scotus.plot(x=\"date\", y=\"yes\", \n",
    "            color=\"red\",      # Color\n",
    "            linewidth=0.75,   # Line size\n",
    "            linestyle='--',   # Dotted line style\n",
    "            marker='o',       # Circle markers for each data point\n",
    "            markersize=5      # Size of the markers\n",
    "           )\n",
    "\n",
    "\n",
    "# Adding labels and title\n",
    "plt.title(\"Scotus Approval Ratings Over Time\")\n",
    "plt.xlabel(\"Date\")\n",
    "plt.ylabel(\"Approval Ratings (%)\")\n",
    "\n",
    "# plt.xlabel(\"\")\n"
   ]
  },
  {
   "cell_type": "markdown",
   "id": "6deee0c9-c690-44ba-bc4e-ae580c66e5e3",
   "metadata": {},
   "source": [
    "<h3>Adjust Font Size</h3>"
   ]
  },
  {
   "cell_type": "code",
   "execution_count": null,
   "id": "36975056-e06b-4266-9be4-cb6527973ca8",
   "metadata": {},
   "outputs": [],
   "source": [
    "# Plot the 'yes' approval ratings\n",
    "scotus.plot(x=\"date\", y=\"yes\", \n",
    "            color=\"red\",      # Color of the line\n",
    "            linewidth=0.75,   # Width of the line\n",
    "            linestyle='--',   # Dotted line style\n",
    "            marker='o',       # Circle markers for each data point\n",
    "            markersize=5      # Size of the markers\n",
    "           )\n",
    "\n",
    "# Adding title and axis labels with custom font sizes\n",
    "plt.title(\"Scotus Approval Ratings Over Time\".upper(), fontsize=20, color=\"red\", fontfamily=\"Franklin Gothic Heavy\")\n",
    "plt.xlabel(\"\")  # No label for the x-axis\n",
    "plt.ylabel(\"Approval Ratings (%)\", fontweight=\"bold\")  # Bold y-axis label\n",
    "\n",
    "\n",
    "# Remove legend\n",
    "plt.legend().set_visible(False)\n",
    "\n",
    "# Adjusting tick parameters for better readability\n",
    "plt.tick_params(axis='both', labelsize=8)                 # Set the font size for ticks\n",
    "\n",
    "# Display the plot\n",
    "plt.show()\n"
   ]
  },
  {
   "cell_type": "markdown",
   "id": "9a5f4bb6-ac77-420f-837c-28c0c7c28143",
   "metadata": {},
   "source": [
    "<h3>Adjust Date Format and Breaks</h3>\n",
    "<p><a href =\"https://www.programiz.com/python-programming/datetime/strptime\" target=\"_blank\">Date Formats</p>"
   ]
  },
  {
   "cell_type": "code",
   "execution_count": null,
   "id": "d4d62e20-4d38-481d-a27c-933b3c8bc5bd",
   "metadata": {},
   "outputs": [],
   "source": [
    "import matplotlib.dates as mdates\n",
    "\n",
    "scotus.plot(x=\"date\", y=\"yes\", \n",
    "            color=\"red\",      # Color of the line\n",
    "            linewidth=0.75,   # Width of the line\n",
    "            linestyle='--',   # Dotted line style\n",
    "            marker='o',       # Circle markers for each data point\n",
    "            markersize=5      # Size of the markers\n",
    "           )\n",
    "\n",
    "# Adding title and axis labels with custom font sizes\n",
    "plt.title(\"Scotus Approval Ratings Over Time\".upper(), fontsize=20, color=\"red\", fontfamily=\"Franklin Gothic Heavy\")\n",
    "plt.xlabel(\"\")  # No label for the x-axis\n",
    "plt.ylabel(\"Approval Ratings (%)\", fontweight=\"bold\")  # Bold y-axis label\n",
    "\n",
    "\n",
    "# Remove legend\n",
    "plt.legend().set_visible(False)\n",
    "\n",
    "# Adjusting tick parameters for better readability\n",
    "plt.tick_params(axis='both', labelsize=8)                 # Set the font size for ticks\n",
    "\n",
    "\n",
    "# Add reference line for July 1, 2024\n",
    "plt.axvline(pd.Timestamp(\"2024-02-29\"), color='green', linestyle=':', linewidth=1.5, label='Reference Date (Feb 29, 2024)')\n",
    "\n",
    "\n",
    "# Setting a continuous scale on the y-axis\n",
    "plt.ylim(25, 55)  # Set limits for y-axis for better visualization\n",
    "\n",
    "# Customizing date format on the x-axis\n",
    "plt.gca().xaxis.set_major_formatter(mdates.DateFormatter('%b %Y'))  # Format for date display\n",
    "plt.gca().xaxis.set_major_locator(mdates.MonthLocator(interval=2))   # Set major ticks every 2 months\n",
    "\n",
    "# Display the plot\n",
    "plt.show()"
   ]
  },
  {
   "cell_type": "markdown",
   "id": "c0bf7819-6100-4128-bd12-3572e16bf483",
   "metadata": {},
   "source": [
    "<h3>Add Addtional Variable</h3>"
   ]
  },
  {
   "cell_type": "code",
   "execution_count": null,
   "id": "7a0fffc7-2e64-4ccc-8970-baa729e92b56",
   "metadata": {},
   "outputs": [],
   "source": [
    "import matplotlib.pyplot as plt\n",
    "import matplotlib.dates as mdates\n",
    "import pandas as pd\n",
    "\n",
    "# Assume scotus DataFrame is already loaded and 'date' is in datetime format\n",
    "\n",
    "# Plotting approval ratings\n",
    "plt.plot(scotus[\"date\"], scotus[\"yes\"],\n",
    "         color=\"coral\",\n",
    "         linewidth=1.5,\n",
    "         linestyle=\"--\",\n",
    "         marker=\"o\",\n",
    "         markersize=6,\n",
    "         alpha=0.7,\n",
    "         label=\"Approval\")  # Label for legend\n",
    "\n",
    "# Plotting disapproval ratings\n",
    "plt.plot(scotus[\"date\"], scotus[\"no\"],\n",
    "         color=\"skyblue\",\n",
    "         linewidth=1,\n",
    "         linestyle=\"-\",\n",
    "         marker=\"^\",\n",
    "         markersize=4,\n",
    "         alpha=0.7,\n",
    "         label=\"Disapproval\")  # Label for legend\n",
    "\n",
    "# Adding title and labels\n",
    "plt.title(\"SCOTUS Ratings Over Time\".upper(), fontsize=20)\n",
    "plt.xlabel(\"\")  # No label for the x-axis\n",
    "plt.ylabel(\"Ratings (%)\", fontweight=\"bold\")  # Bold y-axis label\n",
    "\n",
    "# Customize legend\n",
    "plt.legend(loc=\"upper left\", fontsize=10)\n",
    "\n",
    "# Adding grid for better readability\n",
    "plt.grid(True)\n",
    "\n",
    "# Adjusting tick parameters for better readability\n",
    "plt.tick_params(axis='both', labelsize=8)  # Set the font size for ticks\n",
    "\n",
    "# Setting a continuous scale on the y-axis\n",
    "plt.ylim(25, 70)  # Set limits for y-axis for better visualization\n",
    "\n",
    "# Add reference line for February 29, 2024\n",
    "plt.axvline(pd.Timestamp(\"2024-02-29\"), color='green', linestyle=':', linewidth=1.5, label='Reference Date (Feb 29, 2024)')\n",
    "\n",
    "# Customizing date format on the x-axis\n",
    "plt.gca().xaxis.set_major_formatter(mdates.DateFormatter('%b %Y'))  # Format for date display\n",
    "plt.gca().xaxis.set_major_locator(mdates.MonthLocator(interval=2))   # Set major ticks every 2 months\n",
    "\n",
    "# Display the plot\n",
    "plt.show()\n"
   ]
  },
  {
   "cell_type": "markdown",
   "id": "f2ccf8a7-3736-481f-8137-8c7beaf2c1d7",
   "metadata": {},
   "source": [
    "<h3>Export Plot</h3>"
   ]
  },
  {
   "cell_type": "code",
   "execution_count": null,
   "id": "baa1f64a-3696-401c-acb4-1a95afe364e9",
   "metadata": {},
   "outputs": [],
   "source": [
    "import matplotlib.pyplot as plt\n",
    "import matplotlib.dates as mdates\n",
    "import pandas as pd\n",
    "\n",
    "# Assume scotus DataFrame is already loaded and 'date' is in datetime format\n",
    "\n",
    "# Plotting approval ratings\n",
    "plt.plot(scotus[\"date\"], scotus[\"yes\"],\n",
    "         color=\"coral\",\n",
    "         linewidth=1.5,\n",
    "         linestyle=\"--\",\n",
    "         marker=\"o\",\n",
    "         markersize=6,\n",
    "         alpha=0.7,\n",
    "         label=\"Approval\")  # Label for legend\n",
    "\n",
    "# Plotting disapproval ratings\n",
    "plt.plot(scotus[\"date\"], scotus[\"no\"],\n",
    "         color=\"skyblue\",\n",
    "         linewidth=1,\n",
    "         linestyle=\"-\",\n",
    "         marker=\"^\",\n",
    "         markersize=4,\n",
    "         alpha=0.7,\n",
    "         label=\"Disapproval\")  # Label for legend\n",
    "\n",
    "# Adding title and labels\n",
    "plt.title(\"SCOTUS Ratings Over Time\".upper(), fontsize=20)\n",
    "plt.xlabel(\"\")  # No label for the x-axis\n",
    "plt.ylabel(\"Ratings (%)\", fontweight=\"bold\")  # Bold y-axis label\n",
    "\n",
    "# Customize legend\n",
    "plt.legend(loc=\"upper left\", fontsize=10)\n",
    "\n",
    "# Adding grid for better readability\n",
    "plt.grid(True)\n",
    "\n",
    "# Adjusting tick parameters for better readability\n",
    "plt.tick_params(axis='both', labelsize=8)  # Set the font size for ticks\n",
    "\n",
    "# Setting a continuous scale on the y-axis\n",
    "plt.ylim(25, 70)  # Set limits for y-axis for better visualization\n",
    "\n",
    "# Add reference line for February 29, 2024\n",
    "plt.axvline(pd.Timestamp(\"2024-02-29\"), color='green', linestyle=':', linewidth=1.5, label='Reference Date (Feb 29, 2024)')\n",
    "\n",
    "# Customizing date format on the x-axis\n",
    "plt.gca().xaxis.set_major_formatter(mdates.DateFormatter('%b %Y'))  # Format for date display\n",
    "plt.gca().xaxis.set_major_locator(mdates.MonthLocator(interval=2))   # Set major ticks every 2 months\n",
    "\n",
    "# Save the plot as an image file\n",
    "plt.savefig(\"scotus_ratings_over_time.png\", dpi=300, bbox_inches='tight')  # Save as PNG with high resolution\n",
    "\n",
    "# Display the plot\n",
    "plt.show()\n"
   ]
  },
  {
   "cell_type": "markdown",
   "id": "f98ff6a3-594a-402b-b5ca-4faf0a0356bc",
   "metadata": {},
   "source": [
    "<h2>Seaborn</h2>\n",
    "<p><a href=\"https://seaborn.pydata.org/\">https://seaborn.pydata.org/</a></p>"
   ]
  },
  {
   "cell_type": "code",
   "execution_count": null,
   "id": "196ac719-154e-44ad-8500-702f6fcf6d3a",
   "metadata": {},
   "outputs": [],
   "source": [
    "# load the libraries\n",
    "\n",
    "import seaborn as sns\n",
    "import matplotlib.pyplot as plt\n",
    "import pandas as pd\n",
    "\n",
    "\n",
    "reviews = pd.read_csv(\"customer_reviews.csv\")\n",
    "reviews.dtypes\n"
   ]
  },
  {
   "cell_type": "code",
   "execution_count": null,
   "id": "4609bd97-4197-4ecf-a480-9ab88c9a536c",
   "metadata": {},
   "outputs": [],
   "source": [
    "# create the bar plot\n",
    "\n",
    "sns.countplot(data = reviews, x = \"Department_Name\")"
   ]
  },
  {
   "cell_type": "code",
   "execution_count": null,
   "id": "b3d063cc-81a2-41cc-ba25-a7c45f3f1713",
   "metadata": {},
   "outputs": [],
   "source": [
    "# create the bar plot\n",
    "\n",
    "sns.countplot(data = reviews, x = \"Department_Name\")\n",
    "\n",
    "# Add title and labels\n",
    "plt.title('Count of Reviews by Department')\n",
    "plt.xlabel('Department Name')\n",
    "plt.ylabel('')\n",
    "\n",
    "# Show plot\n",
    "plt.show()\n"
   ]
  },
  {
   "cell_type": "code",
   "execution_count": null,
   "id": "4fafc236-c50b-45d6-b744-d792ee237a9d",
   "metadata": {},
   "outputs": [],
   "source": [
    "# Set Seaborn style\n",
    "sns.set_style(\"whitegrid\")\n",
    "\n",
    "sns.countplot(data = reviews, x = \"Department_Name\")\n",
    "\n",
    "# Add title and labels\n",
    "plt.title('Count of Reviews by Department')\n",
    "plt.xlabel('Department Name')\n",
    "plt.ylabel('')\n",
    "\n",
    "# Show plot\n",
    "plt.show()\n"
   ]
  },
  {
   "cell_type": "markdown",
   "id": "bb842bc0-1607-4121-80d5-716a02e8e955",
   "metadata": {},
   "source": [
    "<h3>Color Brewer Palettes</h3>\n",
    "<p><a href =\"https://colorbrewer2.org/\" target=\"_blank\">https://colorbrewer2.org/</a></p>"
   ]
  },
  {
   "cell_type": "code",
   "execution_count": null,
   "id": "fabbee27-f69d-4687-8010-719db14dd1d1",
   "metadata": {},
   "outputs": [],
   "source": [
    "# Set Seaborn style\n",
    "sns.set_style(\"whitegrid\")\n",
    "\n",
    "# Define Color Brewer palette\n",
    "brewer_palette = sns.color_palette(\"Pastel1\")\n",
    "\n",
    "# Create countplot with Color Brewer palette\n",
    "sns.countplot(data=reviews, x=\"Department_Name\", palette=brewer_palette)\n",
    "\n",
    "# Add title and labels\n",
    "plt.title('Count of Reviews by Department')\n",
    "plt.xlabel('Department Name')\n",
    "plt.ylabel('Number of Reviews')  # Added ylabel for clarity\n",
    "\n",
    "# Show plot\n",
    "plt.show()"
   ]
  },
  {
   "cell_type": "code",
   "execution_count": null,
   "id": "0955a91c-d9c2-486d-b791-9f5a3659ff6d",
   "metadata": {},
   "outputs": [],
   "source": [
    "# Calculate counts and sort by values\n",
    "department_counts = reviews['Department_Name'].value_counts()\n",
    "sorted_departments = department_counts.index.tolist()  # Get the sorted order of departments\n",
    "\n",
    "# Create countplot with the specified order\n",
    "sns.countplot(data=reviews, x=\"Department_Name\", order=sorted_departments)"
   ]
  },
  {
   "cell_type": "markdown",
   "id": "a3abdcf2-a89a-4dd8-82df-e7906a4a0cb2",
   "metadata": {},
   "source": [
    "<h2>Plotly</h2>\n",
    "<p><a href = \"https://plotly.com/python/\" target =\"_blank\">https://plotly.com/python/</a></p>"
   ]
  },
  {
   "cell_type": "code",
   "execution_count": null,
   "id": "48ed50ea-b2e7-477f-863b-0e2f58315b54",
   "metadata": {},
   "outputs": [],
   "source": [
    "import plotly.graph_objects as go\n",
    "\n",
    "# Assuming reviews is a DataFrame containing data\n",
    "# Create a Plotly histogram figure\n",
    "fig = go.Figure(data=[go.Histogram(x=reviews[\"Age\"])])\n",
    "\n",
    "# Display the histogram\n",
    "fig.show()\n"
   ]
  },
  {
   "cell_type": "markdown",
   "id": "0a44e9d5-1a3b-408f-9d76-dab589435456",
   "metadata": {},
   "source": [
    "<h3>Add Bins</h3>"
   ]
  },
  {
   "cell_type": "code",
   "execution_count": null,
   "id": "e77a8885-5943-471e-adcb-a19aadc49fd3",
   "metadata": {},
   "outputs": [],
   "source": [
    "import plotly.graph_objects as go\n",
    "\n",
    "# Create a Plotly histogram figure with additional options\n",
    "fig = go.Figure(data=[go.Histogram(x=reviews[\"Age\"],\n",
    "                                   # Set number of bins\n",
    "                                   nbinsx=20,\n",
    "                                   )])\n",
    "\n",
    "# Update layout for better appearance\n",
    "fig.update_layout(title=\"Histogram of Age\",\n",
    "                  xaxis_title=\"Age\",\n",
    "                  yaxis_title=\"Frequency\",\n",
    "                  \n",
    "                 )\n",
    "\n",
    "# Display the histogram\n",
    "fig.show()\n"
   ]
  },
  {
   "cell_type": "markdown",
   "id": "2d7ecc17-8f85-4590-ae3e-35c49c47fd52",
   "metadata": {},
   "source": [
    "<h3>Change Theme</h3>\n",
    "<p>Plotly provides several built-in themes (also called templates) that you can use to customize the appearance of your visualizations. Below are some of the available themes:</p>\n",
    "\n",
    "<ul>\n",
    "    <li><strong>plotly</strong> - The default Plotly theme with a classic look.</li>\n",
    "    <li><strong>ggplot2</strong> - Inspired by the ggplot2 library, this theme provides a clean and modern aesthetic.</li>\n",
    "    <li><strong>seaborn</strong> - Inspired by the Seaborn library, this theme emphasizes visual appeal with muted colors and a grid background.</li>\n",
    "    <li><strong>simple_white</strong> - A minimalist theme with a white background, suitable for clean presentations.</li>\n",
    "    <li><strong>presentation</strong> - Designed for creating presentation-ready plots, with a focus on visibility and clarity.</li>\n",
    "    <li><strong>xgridoff</strong> - A theme with grid lines removed, providing a cleaner look for visualizations.</li>\n",
    "    <li><strong>ygridoff</strong> - Similar to xgridoff but removes vertical grid lines.</li>\n",
    "    <li><strong>plotly_white</strong> - A theme with a white background and light grid lines, combining elements from Plotly and simple white.</li>\n",
    "    <li><strong>plotly_dark</strong> - A dark theme that provides high contrast for visualizations, making them suitable for dark backgrounds.</li>\n",
    "    <li><strong>dark</strong> - A simple dark theme, offering high contrast for better visibility.</li>\n",
    "</ul>"
   ]
  },
  {
   "cell_type": "code",
   "execution_count": null,
   "id": "6a740f1e-7a18-4fd9-816c-5d42f0ed4083",
   "metadata": {},
   "outputs": [],
   "source": [
    "import plotly.io as pio\n",
    "\n",
    "# Set the default theme\n",
    "pio.templates.default = \"ggplot2\"  # Change to any available theme like 'plotly', 'ggplot2', etc.\n",
    "\n",
    "\n",
    "# Create a Plotly histogram figure with additional options\n",
    "fig = go.Figure(data=[go.Histogram(\n",
    "    x=reviews[\"Age\"],\n",
    "    # Set number of bins\n",
    "    nbinsx=20,\n",
    "    opacity=0.7,\n",
    "    # Set fill and line colors\n",
    "    marker=dict(\n",
    "        color='#ffbf00',  # Fill color\n",
    "        line=dict(color='#f08080', width=3)  # Line color and width\n",
    "    )\n",
    ")])\n",
    "\n",
    "# Update layout for better appearance\n",
    "fig.update_layout(\n",
    "    title=\"Histogram of Age\",\n",
    "    xaxis_title=\"Age\",\n",
    "    yaxis_title=\"Frequency\",\n",
    "    bargap=0.1,  # Set gap between bars\n",
    ")\n",
    "\n",
    "# Display the histogram\n",
    "fig.show()"
   ]
  },
  {
   "cell_type": "markdown",
   "id": "0d8c43e7-8dcf-4cb9-9ca6-fc7f12756e9d",
   "metadata": {},
   "source": [
    "<h3>Change Size</h3>"
   ]
  },
  {
   "cell_type": "code",
   "execution_count": null,
   "id": "76384ab8-dd39-4db3-af95-82d5de3414bb",
   "metadata": {},
   "outputs": [],
   "source": [
    "# Set the default theme\n",
    "pio.templates.default = \"ggplot2\"  # Change to any available theme like 'plotly', 'ggplot2', etc.\n",
    "\n",
    "# Create a Plotly histogram figure with additional options\n",
    "fig = go.Figure(data=[go.Histogram(\n",
    "    x=reviews[\"Age\"],\n",
    "    # Set number of bins\n",
    "    nbinsx=20,\n",
    "    opacity=0.7,\n",
    "    # Set fill and line colors\n",
    "    marker=dict(\n",
    "        color='#ffbf00',  # Fill color\n",
    "        line=dict(color='#f08080', width=3)  # Line color and width\n",
    "    )\n",
    ")])\n",
    "\n",
    "# Update layout for better appearance, including figure size\n",
    "fig.update_layout(\n",
    "    title=\"Histogram of Age\",\n",
    "    xaxis_title=\"Age\",\n",
    "    yaxis_title=\"Frequency\",\n",
    "    bargap=0.1,  # Set gap between bars\n",
    "    width=800,   # Set the width of the figure\n",
    "    height=600   # Set the height of the figure\n",
    ")\n",
    "\n",
    "# Display the histogram\n",
    "fig.show()"
   ]
  }
 ],
 "metadata": {
  "kernelspec": {
   "display_name": "Python 3 (ipykernel)",
   "language": "python",
   "name": "python3"
  },
  "language_info": {
   "codemirror_mode": {
    "name": "ipython",
    "version": 3
   },
   "file_extension": ".py",
   "mimetype": "text/x-python",
   "name": "python",
   "nbconvert_exporter": "python",
   "pygments_lexer": "ipython3",
   "version": "3.11.7"
  }
 },
 "nbformat": 4,
 "nbformat_minor": 5
}
